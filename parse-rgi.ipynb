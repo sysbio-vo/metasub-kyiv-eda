{
 "cells": [
  {
   "cell_type": "code",
   "execution_count": 36,
   "id": "a5f32657",
   "metadata": {},
   "outputs": [],
   "source": [
    "import pandas as pd\n",
    "import numpy as np\n",
    "import os"
   ]
  },
  {
   "cell_type": "code",
   "execution_count": 4,
   "id": "4f4edb9d",
   "metadata": {},
   "outputs": [
    {
     "data": {
      "text/plain": [
       "Index(['ARO Term', 'ARO Accession', 'Reference Model Type', 'Reference DB',\n",
       "       'Alleles with Mapped Reads',\n",
       "       'Reference Allele(s) Identity to CARD Reference Protein (%)',\n",
       "       'Resistomes & Variants: Observed in Genome(s)',\n",
       "       'Resistomes & Variants: Observed in Plasmid(s)',\n",
       "       'Resistomes & Variants: Observed Pathogen(s)',\n",
       "       'Completely Mapped Reads', 'Mapped Reads with Flanking Sequence',\n",
       "       'All Mapped Reads', 'Average Percent Coverage',\n",
       "       'Average Length Coverage (bp)',\n",
       "       'Average MAPQ (Completely Mapped Reads)', 'Number of Mapped Baits',\n",
       "       'Number of Mapped Baits with Reads', 'Average Number of reads per Bait',\n",
       "       'Number of reads per Bait Coefficient of Variation (%)',\n",
       "       'Number of reads mapping to baits and mapping to complete gene',\n",
       "       'Number of reads mapping to baits and mapping to complete gene (%)',\n",
       "       'Mate Pair Linkage (# reads)', 'Reference Length', 'AMR Gene Family',\n",
       "       'Drug Class', 'Resistance Mechanism'],\n",
       "      dtype='object')"
      ]
     },
     "execution_count": 4,
     "metadata": {},
     "output_type": "execute_result"
    }
   ],
   "source": [
    "sl98 = pd.read_csv('out/AMR-analysis/haib17CEM5241_HMGMHCCXY_SL343498.gene_mapping_data.txt', sep = '\\t')\n",
    "sl98.columns"
   ]
  },
  {
   "cell_type": "code",
   "execution_count": 19,
   "id": "e78eb880",
   "metadata": {},
   "outputs": [],
   "source": [
    "meta = pd.read_csv('data/complete_metadata.csv')\n",
    "meta = meta[\n",
    "    (meta['city'] == 'kyiv') & \n",
    "    (meta['station'] != 'busstop_20') &\n",
    "    (meta['station'].notna()) \n",
    "    ]"
   ]
  },
  {
   "cell_type": "code",
   "execution_count": null,
   "id": "7b57a74a",
   "metadata": {},
   "outputs": [],
   "source": [
    "st_dict = meta.groupby('station')['uuid'].agg(list).to_dict()"
   ]
  },
  {
   "cell_type": "code",
   "execution_count": 50,
   "id": "387290fd",
   "metadata": {},
   "outputs": [],
   "source": [
    "st_dfs = []\n",
    "for st, samples in st_dict.items():\n",
    "    s_dfs = []\n",
    "    for s in samples:\n",
    "        path = f'out/AMR-analysis/{s}.gene_mapping_data.txt'\n",
    "        if os.path.isfile(path):\n",
    "            s_df = pd.read_csv(path, sep='\\t')\n",
    "            s_df['id'] = s\n",
    "            s_dfs.append(s_df)\n",
    "    if s_dfs:\n",
    "        st_df = pd.concat(s_dfs, ignore_index=True)\n",
    "        st_df.to_csv(f'{st}.gene_mapping_data.txt', index=False, sep='\\t')\n",
    "        st_df['station'] = st\n",
    "        st_dfs.append(st_df)\n",
    "resdf = pd.concat(st_dfs)\n"
   ]
  },
  {
   "cell_type": "code",
   "execution_count": 52,
   "id": "e0b6149f",
   "metadata": {},
   "outputs": [],
   "source": [
    "resdf.to_csv('all-stations.gene_mapping_data.txt', sep = '\\t')"
   ]
  }
 ],
 "metadata": {
  "kernelspec": {
   "display_name": "py313",
   "language": "python",
   "name": "python3"
  },
  "language_info": {
   "codemirror_mode": {
    "name": "ipython",
    "version": 3
   },
   "file_extension": ".py",
   "mimetype": "text/x-python",
   "name": "python",
   "nbconvert_exporter": "python",
   "pygments_lexer": "ipython3",
   "version": "3.13.3"
  }
 },
 "nbformat": 4,
 "nbformat_minor": 5
}
